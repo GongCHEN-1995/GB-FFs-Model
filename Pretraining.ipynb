{
 "cells": [
  {
   "cell_type": "code",
   "execution_count": null,
   "id": "f9ac20d1",
   "metadata": {},
   "outputs": [],
   "source": [
    "import os\n",
    "# os.environ[\"CUDA_VISIBLE_DEVICES\"] = \"1\"\n",
    "import re\n",
    "import numpy as np\n",
    "import torch\n",
    "import functools\n",
    "from multiprocessing import Pool\n",
    "\n",
    "from src.ForceFields.GAFF.ReadPara import read_GAFF2_dat\n",
    "from src.ForceFields.GAFF.Compute_Energy_Force import ComputeEnergyForce\n",
    "from src.GB_FFs.ParameterGenerator_ChargeTransfer_Model import OptimizedPara\n",
    "from src.PreTraining.ReadMol import para_process_mol, construct_dataloader\n",
    "from src.PreTraining.PreTraining import Test_ANI1,Train_ANI1,Train_para, Train_GAFF"
   ]
  },
  {
   "cell_type": "markdown",
   "id": "b70d90a4",
   "metadata": {},
   "source": [
    "GB-FFs GAFF:   bond_morse=False, angle_ub=False\n",
    "\n",
    "GB-FFs MORSE:  bond_morse=True, angle_ub=False\n",
    "\n",
    "GB-FFs UB:     bond_morse=True,  angle_ub=True"
   ]
  },
  {
   "cell_type": "code",
   "execution_count": null,
   "id": "3f1c4060",
   "metadata": {
    "scrolled": true
   },
   "outputs": [],
   "source": [
    "# Prepare to process molecules \n",
    "bond_morse = True # [True, False] whether use the full Morse function for bond energy\n",
    "bool_ub = False # [True, False] whether ues urey-brandley term. We use E = epsilon((r_UB / r)^2 - 1)^2 instead of harmonic fucntion\n",
    "nb_cpu = 30 # number of cpu to use\n",
    "nb_time_processing = 20 # one cpu will process 'nb_time_processing' molecules at a time\n",
    "\n",
    "dataset = 'ANI-1'\n",
    "GAFF = read_GAFF2_dat(bond_morse, bool_ub) # read GAFF parameters from 'GAFF2.dat'\n",
    "max_len = 26 # maximum number of atoms in compound, 100 is ok"
   ]
  },
  {
   "cell_type": "markdown",
   "id": "143a4937",
   "metadata": {},
   "source": [
    "Pre-training models:\n",
    "\n",
    "1.ANI1-GAFF.pth: GB-FFs GAFF with GAFF charge\n",
    "\n",
    "2.ANI1-MORSE.pth: GB-FFs MORSE with GAFF charge\n",
    "\n",
    "3.ANI1-UB.pth: GB-FFs UB with GAFF charge"
   ]
  },
  {
   "cell_type": "code",
   "execution_count": null,
   "id": "c840dce1",
   "metadata": {},
   "outputs": [],
   "source": [
    "model_name = 'PreTraining-MORSE.pth' # the model to load\n",
    "d_model = 512      # dimension of model (D_h)\n",
    "dropout = 0.1      # dropout to eliminate overfitting\n",
    "num_heads = 16     # number of attention heads in Large layers (N_heads)\n",
    "nb_layer = 3       # number of Large layers (L)\n",
    "activation = \"SMU\" # [relu,leakyrelu,gelu,SMU] the type of activation function (\\sigma)\n",
    "store_name = 'tmp.pth' # the name of saved model. If should be 'None' if you don't want to save the best model\n",
    "                       # Attention: If store_name = None, the training stage will not be early-stopped!"
   ]
  },
  {
   "cell_type": "markdown",
   "id": "b741f333",
   "metadata": {},
   "source": [
    "Everything is set and you just need to run the following code!!!"
   ]
  },
  {
   "cell_type": "code",
   "execution_count": null,
   "id": "c9256034",
   "metadata": {},
   "outputs": [],
   "source": [
    "# Read the conformations, energies, forces, GAFF parameters...\n",
    "\n",
    "# ./data/SPICE/MOL.txt stores the processed molecules. \n",
    "mol = []\n",
    "all_name = []\n",
    "with open(os.path.join('./data/',dataset,'mol.txt'), 'r') as IndexFile:\n",
    "    for line in IndexFile.read().splitlines():\n",
    "        all_name.append(line)\n",
    "    \n",
    "with Pool(processes=nb_cpu) as pool:\n",
    "    for results in pool.imap(functools.partial(para_process_mol, all_name=all_name, dataset=dataset, GAFF=GAFF, bond_morse=bond_morse, bool_ub=bool_ub, max_len=max_len, nb_time_processing=nb_time_processing),range(int(np.ceil(len(all_name)/nb_time_processing)))):\n",
    "        i, mol_part = results\n",
    "        mol += mol_part\n",
    "        if (i+1) % (10*nb_cpu) == 0:\n",
    "            print(i+1,'/',int(np.ceil(len(all_name)/nb_time_processing)),' finished')\n",
    "print('Molecule processing finished!')\n",
    "\n",
    "train_index = int(np.ceil(len(mol) * 0.8))\n",
    "val_index = int(np.ceil(len(mol) * 0.9))\n",
    "mol_train = mol[:train_index]\n",
    "mol_val = mol[train_index:val_index]\n",
    "mol_test = mol[val_index:]\n",
    "\n",
    "print('Reading conformations...')\n",
    "train_dataloader = construct_dataloader(mol_train, True)\n",
    "val_dataloader = construct_dataloader(mol_val, False)\n",
    "test_dataloader = construct_dataloader(mol_test, False)\n",
    "print('Dataloaders are generated sucessfully!')"
   ]
  },
  {
   "cell_type": "code",
   "execution_count": null,
   "id": "7d877768",
   "metadata": {},
   "outputs": [],
   "source": [
    "# Generate the models\n",
    "# 'model' is the GB-FFs model\n",
    "# 'model2' is to compute energy and force accorfing to FFs parameters and conformations\n",
    "\n",
    "model = OptimizedPara(d_model=d_model, dropout=dropout, num_heads=num_heads, nb_layer=nb_layer,activation=activation,leakyrelu=0.1,bool_ub=bool_ub)\n",
    "\n",
    "model.load_state_dict(torch.load('./model/' + model_name))\n",
    "model = model.to(\"cuda\" if torch.cuda.is_available() else \"cpu\")\n",
    "\n",
    "model2 = ComputeEnergyForce(bond_morse, bool_ub)\n",
    "model2 = model2.to(\"cuda\" if torch.cuda.is_available() else \"cpu\")\n"
   ]
  },
  {
   "cell_type": "code",
   "execution_count": null,
   "id": "aee94ab4",
   "metadata": {},
   "outputs": [],
   "source": [
    "# The loss is the parameters\n",
    "for name,parameters in model.named_parameters():\n",
    "    parameters.requires_grad = True\n",
    "        \n",
    "epochs = 5\n",
    "start_lr = 1e-4\n",
    "end_lr = 1e-6\n",
    "rate = 0.99\n",
    "step_size = 100\n",
    "model = Train_para(model, model2, train_dataloader, val_dataloader, test_dataloader, epochs, start_lr, end_lr, rate, step_size)\n",
    "print()\n",
    "\n",
    "# The loss is the parameters and the single energy (the energy for each interaction, which means, every bond/angle/...)\n",
    "for name,parameters in model.named_parameters():\n",
    "    parameters.requires_grad = True\n",
    "epochs = 5\n",
    "start_lr = 1e-5\n",
    "end_lr = 1e-7\n",
    "rate = 0.99\n",
    "step_size = 100\n",
    "target_type = 'single' # single sum\n",
    "model = Train_GAFF(model, model2, train_dataloader, val_dataloader, test_dataloader, epochs, start_lr, end_lr, rate, step_size, target_type)\n"
   ]
  },
  {
   "cell_type": "code",
   "execution_count": null,
   "id": "c72834a7",
   "metadata": {},
   "outputs": [],
   "source": [
    "# Fine-tune on all trainable parameters\n",
    "# The loss is the parameters and the total relative energy (the sum of energy for all interactions)\n",
    "for name,parameters in model.named_parameters():\n",
    "    parameters.requires_grad = True\n",
    "epochs = 5\n",
    "start_lr = 1e-5\n",
    "end_lr = 1e-7\n",
    "rate = 0.99\n",
    "step_size = 100\n",
    "\n",
    "model = Train_ANI1(model, model2, train_dataloader, val_dataloader, test_dataloader, epochs, start_lr, end_lr, rate, step_size, store_name)\n"
   ]
  },
  {
   "cell_type": "code",
   "execution_count": null,
   "id": "9474308c",
   "metadata": {},
   "outputs": [],
   "source": [
    "# You can use the following code to check the loss on test dataset:\n",
    "Para_Loss, num_conf, num_mol = Test_ANI1(model, model2, test_dataloader)\n",
    "print('After filtering, ', num_mol, ' molecules (', num_conf,'conformations) are left')\n",
    "print('RMSE for Energy (Kcal/mol) :', Para_Loss[-1])"
   ]
  },
  {
   "cell_type": "code",
   "execution_count": null,
   "id": "ea6b54ff",
   "metadata": {},
   "outputs": [],
   "source": []
  }
 ],
 "metadata": {
  "kernelspec": {
   "display_name": "Python 3",
   "language": "python",
   "name": "python3"
  },
  "language_info": {
   "codemirror_mode": {
    "name": "ipython",
    "version": 3
   },
   "file_extension": ".py",
   "mimetype": "text/x-python",
   "name": "python",
   "nbconvert_exporter": "python",
   "pygments_lexer": "ipython3",
   "version": "3.7.12"
  }
 },
 "nbformat": 4,
 "nbformat_minor": 5
}
