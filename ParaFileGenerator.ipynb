{
 "cells": [
  {
   "cell_type": "code",
   "execution_count": null,
   "id": "ef649fb9",
   "metadata": {},
   "outputs": [],
   "source": [
    "import os\n",
    "# os.environ[\"CUDA_VISIBLE_DEVICES\"] = \"2\"\n",
    "import re\n",
    "import numpy as np\n",
    "import torch\n",
    "\n",
    "from src.GeneratingPara.ReadMol import Molecule, check_file\n",
    "from src.GeneratingPara.Generator import Generate_file\n",
    "from src.GB_FFs.ParameterGenerator_ChargeTransfer_Model import OptimizedPara"
   ]
  },
  {
   "cell_type": "markdown",
   "id": "05139b87",
   "metadata": {},
   "source": [
    "GB-FFs GAFF: bond_morse=False, bool_ub=False\n",
    "\n",
    "GB-FFs MORSE: bond_morse=True, bool_ub=False\n",
    "\n",
    "GB-FFs UB: bond_morse=True, bool_ub=True"
   ]
  },
  {
   "cell_type": "code",
   "execution_count": null,
   "id": "f60fe980",
   "metadata": {},
   "outputs": [],
   "source": [
    "# Prepare to process molecules \n",
    "bond_morse = False # [True, False] whether use the full Morse function for bond energy\n",
    "bool_ub = False # [True, False] whether ues urey-brandley term. We use E = epsilon((r_UB / r)^2 - 1)^2 instead of harmonic fucntion\n",
    "max_len = 100 # maximum number of atoms in compound, 100 is ok\n",
    "print_info = False # Whether to print the details of each molecule"
   ]
  },
  {
   "cell_type": "markdown",
   "id": "3c85aa22",
   "metadata": {},
   "source": [
    "bool_OAT: [True, False] \n",
    "\n",
    "One Atom Type (OAT). In the parameter file, we have the option to either specify individual atom numbers for each atom or assign the same atom number to atoms in the same chemical environment. For instance, when 'bool_OAT=True', hydrogen atoms in CH4 share the same atom number (401). Otherwise, 'H1' is 401, 'H2' is 402, 'H3' is 403, and 'H4' is 404.\n",
    "___________\n",
    "\n",
    "write_xyz: [True, False] \n",
    "\n",
    "Tinker-HP requires a parameter file (.prm) and a coordinate file (.xyz) for MD simulations. Enabling 'write_xyz' as 'True' will generate the coordinate file in the \"./GeneratingPara/xyz/\" folder.\n",
    "\n",
    "We recommend to use the generated coordinate file to avoid the problems of atom number.\n",
    "___________\n",
    "\n",
    "waterbox: [True, False] \n",
    "\n",
    "To simulate the system in a water solution, set 'waterbox=True' and provide the parameter file for the water model (e.g., SPC water model) at './GeneratingPara/key/waterbox.prm'.\n",
    "___________\n",
    "\n",
    "generate_waterbox: [True, False] \n",
    "\n",
    "If 'waterbox=True' and no 'waterbox.prm' file is found in \"./GeneratingPara/key/\", use the GB-FFs model to generate 'waterbox.prm', setting 'generate_waterbox' to 'True'.\n",
    "___________"
   ]
  },
  {
   "cell_type": "code",
   "execution_count": null,
   "id": "fa02ac65",
   "metadata": {},
   "outputs": [],
   "source": [
    "bool_OAT = False\n",
    "write_xyz = True\n",
    "waterbox = True\n",
    "generate_waterbox = True \n"
   ]
  },
  {
   "cell_type": "markdown",
   "id": "8773db20",
   "metadata": {},
   "source": [
    "'all_name' defines the molecules for which you want to generate parameter files. \n",
    "\n",
    "You can specify them manually or scan the files in './GeneratingPara/sdf' (or './GeneratingPara/pdb') folder."
   ]
  },
  {
   "cell_type": "code",
   "execution_count": null,
   "id": "d131eb6e",
   "metadata": {},
   "outputs": [],
   "source": [
    "all_name = []\n",
    "\n",
    "# # define the files manually \n",
    "# all_name = ['Methanethiol', 'acetamide', 'water']\n",
    "\n",
    "# scan the file in './GeneratingPara/sdf' folder \n",
    "for root, dirs, files in os.walk('./GeneratingPara/sdf'):\n",
    "    for file in files:\n",
    "        all_name.append(re.split(r'^(.+)\\.sdf$',file)[1])\n",
    "        \n",
    "# # scan the file in './GeneratingPara/pdb' folder \n",
    "# for root, dirs, files in os.walk('./GeneratingPara/pdb'):\n",
    "#     for file in files:\n",
    "#         all_name.append(re.split(r'^(.+)\\.pdb$',file)[1])"
   ]
  },
  {
   "cell_type": "markdown",
   "id": "1d5cc000",
   "metadata": {},
   "source": [
    "Fine-tuned models:\n",
    "\n",
    "1.FineTuning-GAFF.pth: GB-FFs GAFF with GB-FFs charge (bond_morse=False, bool_ub=False)\n",
    "\n",
    "2.FineTuning-MORSE.pth: GB-FFs MORSE with GB-FFs charge (bond_morse=True, bool_ub=False)\n",
    "\n",
    "3.FineTuning-UB.pth: GB-FFs UB with GB-FFs charge (bond_morse=True, bool_ub=True)"
   ]
  },
  {
   "cell_type": "code",
   "execution_count": null,
   "id": "52b7898c",
   "metadata": {},
   "outputs": [],
   "source": [
    "model_name = 'FineTuning-GAFF.pth' # the model to load\n",
    "d_model = 512      # dimension of model (D_h)\n",
    "dropout = 0.1      # dropout to eliminate overfitting\n",
    "num_heads = 16     # number of attention heads in Large layers (N_heads)\n",
    "nb_layer = 3       # number of Large layers (L)\n",
    "activation = \"SMU\" # [relu,leakyrelu,gelu,SMU] the type of activation function (\\sigma)"
   ]
  },
  {
   "cell_type": "markdown",
   "id": "56ad7ac0",
   "metadata": {},
   "source": [
    "Everything is set and you just need to run the following code!!!"
   ]
  },
  {
   "cell_type": "code",
   "execution_count": null,
   "id": "8ff3372c",
   "metadata": {},
   "outputs": [],
   "source": [
    "# if you need generate a water box, the molecule 'water' must be included in 'all_name'\n",
    "if generate_waterbox:\n",
    "    assert 'water' in all_name\n",
    "    \n",
    "mol = []\n",
    "for name in all_name:\n",
    "    check_file(name)\n",
    "    mol.append(Molecule(name, bond_morse, bool_ub, max_len, print_info=print_info))\n",
    "    "
   ]
  },
  {
   "cell_type": "code",
   "execution_count": null,
   "id": "1918a98d",
   "metadata": {},
   "outputs": [],
   "source": [
    "# Load the Fine-Tuned model\n",
    "model = OptimizedPara(d_model=d_model, dropout=dropout, num_heads=num_heads, nb_layer=nb_layer, activation=activation, leakyrelu=0.1, bool_ub=bool_ub)\n",
    "model.load_state_dict(torch.load('./model/' + model_name))\n",
    "model = model.to(\"cuda\" if torch.cuda.is_available() else \"cpu\")\n",
    "model.eval()\n",
    "print()"
   ]
  },
  {
   "cell_type": "markdown",
   "id": "b92738f7",
   "metadata": {},
   "source": [
    "If \"generate_waterbox==True\" the following code will generate a 'water.prm' file and move it to \"./GeneratingPara/waterbox/\""
   ]
  },
  {
   "cell_type": "code",
   "execution_count": null,
   "id": "bfa7493a",
   "metadata": {},
   "outputs": [],
   "source": [
    "if generate_waterbox:\n",
    "    for i in range(len(mol)):\n",
    "        if mol[i].mol_name == 'water':\n",
    "            Generate_file(mol[i], model, bool_OAT=True, write_xyz=False, waterbox=False, print_time=False)\n",
    "            os.system('mv ./GeneratingPara/key/water.prm ./GeneratingPara/waterbox/waterbox.prm')\n",
    "            "
   ]
  },
  {
   "cell_type": "code",
   "execution_count": null,
   "id": "b56edfce",
   "metadata": {},
   "outputs": [],
   "source": [
    "# Generate the parameter files\n",
    "for i in mol:\n",
    "    Generate_file(i, model, bool_OAT=bool_OAT, write_xyz=write_xyz, waterbox=waterbox, print_time=True)\n"
   ]
  },
  {
   "cell_type": "code",
   "execution_count": null,
   "id": "7f8f3dad",
   "metadata": {},
   "outputs": [],
   "source": []
  }
 ],
 "metadata": {
  "kernelspec": {
   "display_name": "Python 3",
   "language": "python",
   "name": "python3"
  },
  "language_info": {
   "codemirror_mode": {
    "name": "ipython",
    "version": 3
   },
   "file_extension": ".py",
   "mimetype": "text/x-python",
   "name": "python",
   "nbconvert_exporter": "python",
   "pygments_lexer": "ipython3",
   "version": "3.7.12"
  }
 },
 "nbformat": 4,
 "nbformat_minor": 5
}
