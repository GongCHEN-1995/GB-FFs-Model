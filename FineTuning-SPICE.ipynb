{
 "cells": [
  {
   "cell_type": "code",
   "execution_count": null,
   "id": "56aaf678",
   "metadata": {},
   "outputs": [],
   "source": [
    "import os\n",
    "os.environ[\"CUDA_VISIBLE_DEVICES\"] = \"2\"\n",
    "import re\n",
    "import numpy as np\n",
    "import torch\n",
    "import functools\n",
    "from multiprocessing import Pool\n",
    "\n",
    "from src.ForceFields.GAFF.ReadPara import read_GAFF2_dat\n",
    "from src.ForceFields.GAFF.Compute_Energy_Force import ComputeEnergyForce\n",
    "from src.GB_FFs.ParameterGenerator_ChargeTransfer_Model import OptimizedPara\n",
    "from src.SPICE.ReadMol import para_process_mol, construct_dataloader\n",
    "from src.SPICE.FineTuning import Test_SPICE,Train_SPICE"
   ]
  },
  {
   "cell_type": "markdown",
   "id": "2951f91a",
   "metadata": {},
   "source": [
    "GB-FFs GAFF:   bond_harmonic=True,  bond_morse=False, angle_ub=False\n",
    "\n",
    "GB-FFs MORSE:  bond_harmonic=False, bond_morse=False, angle_ub=False\n",
    "\n",
    "GB-FFs UB:     bond_harmonic=False, bond_morse=True,  angle_ub=True"
   ]
  },
  {
   "cell_type": "code",
   "execution_count": null,
   "id": "0e27eb7c",
   "metadata": {
    "scrolled": true
   },
   "outputs": [],
   "source": [
    "# Prepare to process molecules \n",
    "bond_harmonic = True # [True, False] whether use the Harmonic function for bond energy\n",
    "bond_morse = False # [True, False] whether use the full Morse function for bond energy\n",
    "angle_ub = False # [True, False] whether ues urey-brandley term. We use E = epsilon((r_UB / r)^2 - 1)^2 instead of harmonic fucntion\n",
    "nb_cpu = 30 # number of cpu to use\n",
    "nb_time_processing = 20 # one cpu will process 'nb_time_processing' molecules at a time\n",
    "\n",
    "bool_force = True # [True, False] whether consider force.\n",
    "dataset = 'SPICE'\n",
    "GAFF = read_GAFF2_dat(bond_morse, angle_ub) # read GAFF parameters from 'GAFF2.dat'\n",
    "max_len = 100 # maximum number of atoms in compound, 100 is ok"
   ]
  },
  {
   "cell_type": "markdown",
   "id": "f1454221",
   "metadata": {},
   "source": [
    "Pre-training models:\n",
    "\n",
    "1.ANI1-GAFF.pth: GB-FFs GAFF with GAFF charge\n",
    "\n",
    "2.ANI1-MORSE.pth: GB-FFs MORSE with GAFF charge\n",
    "\n",
    "3.ANI1-UB.pth: GB-FFs UB with GAFF charge\n",
    "\n",
    "Fine-tuned models:\n",
    "\n",
    "1.SPICE-GAFF-embedding.pth: GB-FFs GAFF only fine-tune embedding layers (with AM1-BCC charge)\n",
    "\n",
    "2.SPICE-GAFF-AM1-BCC.pth: GB-FFs GAFF with AM1-BCC charge\n",
    "\n",
    "3.SPICE-GAFF.pth: GB-FFs GAFF with GB-FFs charge\n",
    "\n",
    "4.SPICE-MORSE.pth: GB-FFs MORSE with GB-FFs charge\n",
    "\n",
    "5.SPICE-UB.pth: GB-FFs UB with GB-FFs charge"
   ]
  },
  {
   "cell_type": "code",
   "execution_count": null,
   "id": "efcfc436",
   "metadata": {},
   "outputs": [],
   "source": [
    "model_name = 'SPICE-GAFF.pth' # the model to load\n",
    "charge_type = 'GB-FFs' # ['AM1-BCC', 'GB-FFs'] choose the type of charges you want to use\n",
    "d_model = 512      # dimension of model (D_h)\n",
    "dropout = 0.1      # dropout to eliminate overfitting\n",
    "num_heads = 16     # number of attention heads in Large layers (N_heads)\n",
    "nb_layer = 3       # number of Large layers (L)\n",
    "activation = \"SMU\" # [relu,leakyrelu,gelu,SMU] the type of activation function (\\sigma)\n",
    "store_name = 'tmp.pth' # the name of saved model. If should be 'None' if you don't want to save the best model\n",
    "                       # Attention: If store_name = None, the training stage will not be early-stopped!\n",
    "force_weight = 1   # 1 is ok (\\eta)"
   ]
  },
  {
   "cell_type": "markdown",
   "id": "f60c62bc",
   "metadata": {},
   "source": [
    "Everything is set and you just need to run the following code!!!"
   ]
  },
  {
   "cell_type": "code",
   "execution_count": null,
   "id": "85d1b6a1",
   "metadata": {},
   "outputs": [],
   "source": [
    "# Read the conformations, energies, forces, GAFF parameters...\n",
    "\n",
    "# ./data/SPICE/MOL.txt stores the train/validation/test molecules in our paper. \n",
    "assert charge_type in ['AM1-BCC', 'GB-FFs'], 'Wrong charge type!!!'\n",
    "mol = []\n",
    "all_name = []\n",
    "with open(os.path.join('./data/',dataset,'mol.txt'), 'r') as IndexFile:\n",
    "    for line in IndexFile.read().splitlines():\n",
    "        if 'TRAIN' in line:\n",
    "            pass\n",
    "        elif 'VALIDATION' in line:\n",
    "            train_index = len(all_name)\n",
    "        elif 'TEST' in line:\n",
    "            val_index = len(all_name)\n",
    "        else:\n",
    "            all_name.append(line)\n",
    "\n",
    "with Pool(processes=nb_cpu) as pool:\n",
    "    for results in pool.imap(functools.partial(para_process_mol, all_name=all_name, dataset=dataset, GAFF=GAFF, bond_morse=bond_morse, angle_ub=angle_ub, max_len=max_len, nb_time_processing=nb_time_processing),range(int(np.ceil(len(all_name)/nb_time_processing)))):\n",
    "        i, mol_part = results\n",
    "        mol += mol_part\n",
    "        if (i+1) % (10*nb_cpu) == 0:\n",
    "            print(i+1,'/',int(np.ceil(len(all_name)/nb_time_processing)),' finished')\n",
    "print('Molecule processing finished!')\n",
    "\n",
    "mol_train = mol[:train_index]\n",
    "mol_val = mol[train_index:val_index]\n",
    "mol_test = mol[val_index:]\n",
    "\n",
    "print('Reading conformations...')\n",
    "train_dataloader = construct_dataloader(mol_train, bool_force, True)\n",
    "val_dataloader = construct_dataloader(mol_val, bool_force, False)\n",
    "test_dataloader = construct_dataloader(mol_test, bool_force, False)\n",
    "print('Dataloaders are generated sucessfully!')"
   ]
  },
  {
   "cell_type": "code",
   "execution_count": null,
   "id": "e67c83a8",
   "metadata": {},
   "outputs": [],
   "source": [
    "# Generate the models\n",
    "# 'model' is the GB-FFs model\n",
    "# 'model2' is to compute energy and force accorfing to FFs parameters and conformations\n",
    "\n",
    "model = OptimizedPara(d_model=d_model, dropout=dropout, num_heads=num_heads, nb_layer=nb_layer,activation=activation,bond_morse=bond_morse,angle_ub=angle_ub,leakyrelu=0.1)\n",
    "\n",
    "model.load_state_dict(torch.load('./model/' + model_name))\n",
    "model = model.to(\"cuda\" if torch.cuda.is_available() else \"cpu\")\n",
    "\n",
    "model2 = ComputeEnergyForce(bond_harmonic, bond_morse, angle_ub)\n",
    "model2 = model2.to(\"cuda\" if torch.cuda.is_available() else \"cpu\")\n"
   ]
  },
  {
   "cell_type": "code",
   "execution_count": null,
   "id": "5a38f349",
   "metadata": {},
   "outputs": [],
   "source": [
    "# You can use the following code to check the loss on test dataset:\n",
    "Para_Loss, Force_Loss, num_conf, num_mol = Test_SPICE(model, model2, test_dataloader, charge_type, bool_force, angle_ub, print_info=False)\n",
    "print('After filtering, ', num_mol, ' molecules (', num_conf,' conformations) are left')\n",
    "print('RMSE for Energy (Kcal/mol) :', Para_Loss[-1])\n",
    "print('RMSE for Force (Kcal/mol/A):', Force_Loss)"
   ]
  },
  {
   "cell_type": "code",
   "execution_count": null,
   "id": "7c00dace",
   "metadata": {},
   "outputs": [],
   "source": [
    "# # Only fine-tune embedding layers\n",
    "# for name,parameters in model.named_parameters():\n",
    "#     if 'embedding' in name:\n",
    "#         parameters.requires_grad = True\n",
    "#     else:\n",
    "#         parameters.requires_grad = False\n",
    "# epochs = 300\n",
    "# start_lr = 1e-5\n",
    "# end_lr = 1e-6\n",
    "# rate = 0.995\n",
    "# step_size = 250\n",
    "\n",
    "# model = Train_SPICE(model, model2, train_dataloader, val_dataloader, test_dataloader, charge_type, bool_force, force_weight, angle_ub, epochs, start_lr, end_lr, rate, step_size, store_name)\n"
   ]
  },
  {
   "cell_type": "code",
   "execution_count": null,
   "id": "abeba512",
   "metadata": {},
   "outputs": [],
   "source": [
    "# Fine-tune on all trainable parameters\n",
    "for name,parameters in model.named_parameters():\n",
    "    parameters.requires_grad = True\n",
    "epochs = 300\n",
    "start_lr = 1e-5\n",
    "end_lr = 1e-6\n",
    "rate = 0.995\n",
    "step_size = 250\n",
    "\n",
    "model = Train_SPICE(model, model2, train_dataloader, val_dataloader, test_dataloader, charge_type, bool_force, force_weight, angle_ub, epochs, start_lr, end_lr, rate, step_size, store_name)\n"
   ]
  },
  {
   "cell_type": "code",
   "execution_count": null,
   "id": "7faebada",
   "metadata": {},
   "outputs": [],
   "source": [
    "# You can use the following code to check the loss on test dataset:\n",
    "Para_Loss, Force_Loss, num_conf, num_mol = Test_SPICE(model, model2, test_dataloader, charge_type, bool_force, angle_ub, print_info=False)\n",
    "print('After filtering, ', num_mol, ' molecules (', num_conf,' conformations) are left')\n",
    "print('RMSE for Energy (Kcal/mol) :', Para_Loss[-1])\n",
    "print('RMSE for Force (Kcal/mol/A):', Force_Loss)"
   ]
  },
  {
   "cell_type": "code",
   "execution_count": null,
   "id": "f8bcb94a",
   "metadata": {},
   "outputs": [],
   "source": []
  }
 ],
 "metadata": {
  "kernelspec": {
   "display_name": "Python 3 (ipykernel)",
   "language": "python",
   "name": "python3"
  },
  "language_info": {
   "codemirror_mode": {
    "name": "ipython",
    "version": 3
   },
   "file_extension": ".py",
   "mimetype": "text/x-python",
   "name": "python",
   "nbconvert_exporter": "python",
   "pygments_lexer": "ipython3",
   "version": "3.8.16"
  }
 },
 "nbformat": 4,
 "nbformat_minor": 5
}
